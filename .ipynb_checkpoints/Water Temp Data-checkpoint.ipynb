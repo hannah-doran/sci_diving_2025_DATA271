{
 "cells": [
  {
   "cell_type": "code",
   "execution_count": 1,
   "id": "d7d0c99e",
   "metadata": {},
   "outputs": [],
   "source": [
    "import numpy as np\n",
    "import pandas as pd\n",
    "import requests\n",
    "from bs4 import BeautifulSoup"
   ]
  },
  {
   "cell_type": "markdown",
   "id": "d3319be1",
   "metadata": {},
   "source": [
    "# Trying to compile sea surface temperature data"
   ]
  },
  {
   "cell_type": "markdown",
   "id": "936c3b82",
   "metadata": {},
   "source": [
    "# Bodega Marine Laboratory BML Buoy \n",
    "\n",
    "[https://erddap.cencoos.org/erddap/tabledap/bodega-marine-laboratory-bml-.html]\n",
    "\n",
    "- **Missing important years**"
   ]
  },
  {
   "cell_type": "code",
   "execution_count": 25,
   "id": "ace0b91a",
   "metadata": {},
   "outputs": [
    {
     "name": "stdout",
     "output_type": "stream",
     "text": [
      "                   time sea_water_temperature\n",
      "0                   UTC        degree_Celsius\n",
      "1  2007-01-01T13:00:00Z               12.2346\n",
      "2  2007-01-02T01:00:00Z               12.2159\n",
      "3  2007-01-02T13:00:00Z               12.2048\n",
      "4  2007-01-03T02:00:00Z              12.16775\n"
     ]
    }
   ],
   "source": [
    "import pandas as pd\n",
    "\n",
    "url = 'https://erddap.cencoos.org/erddap/tabledap/bodega-marine-laboratory-bml-.csv'\n",
    "url_cols = 'time,sea_water_temperature'\n",
    "param = 'time>=2007-01-01T00:00:00Z'\n",
    "water_df = pd.read_csv(url+'?'+url_cols+'&'+param)\n",
    "\n",
    "\n",
    "print(water_df.head())\n"
   ]
  },
  {
   "cell_type": "code",
   "execution_count": 26,
   "id": "2c4edf52",
   "metadata": {},
   "outputs": [
    {
     "data": {
      "text/html": [
       "<div>\n",
       "<style scoped>\n",
       "    .dataframe tbody tr th:only-of-type {\n",
       "        vertical-align: middle;\n",
       "    }\n",
       "\n",
       "    .dataframe tbody tr th {\n",
       "        vertical-align: top;\n",
       "    }\n",
       "\n",
       "    .dataframe thead th {\n",
       "        text-align: right;\n",
       "    }\n",
       "</style>\n",
       "<table border=\"1\" class=\"dataframe\">\n",
       "  <thead>\n",
       "    <tr style=\"text-align: right;\">\n",
       "      <th></th>\n",
       "      <th>time</th>\n",
       "      <th>sea_water_temperature</th>\n",
       "    </tr>\n",
       "  </thead>\n",
       "  <tbody>\n",
       "    <tr>\n",
       "      <th>1</th>\n",
       "      <td>2007-01-01T13:00:00Z</td>\n",
       "      <td>12.2346</td>\n",
       "    </tr>\n",
       "    <tr>\n",
       "      <th>2</th>\n",
       "      <td>2007-01-02T01:00:00Z</td>\n",
       "      <td>12.2159</td>\n",
       "    </tr>\n",
       "    <tr>\n",
       "      <th>3</th>\n",
       "      <td>2007-01-02T13:00:00Z</td>\n",
       "      <td>12.2048</td>\n",
       "    </tr>\n",
       "    <tr>\n",
       "      <th>4</th>\n",
       "      <td>2007-01-03T02:00:00Z</td>\n",
       "      <td>12.16775</td>\n",
       "    </tr>\n",
       "    <tr>\n",
       "      <th>5</th>\n",
       "      <td>2007-01-03T17:00:00Z</td>\n",
       "      <td>12.1073</td>\n",
       "    </tr>\n",
       "    <tr>\n",
       "      <th>...</th>\n",
       "      <td>...</td>\n",
       "      <td>...</td>\n",
       "    </tr>\n",
       "    <tr>\n",
       "      <th>19113</th>\n",
       "      <td>2018-11-13T16:00:00Z</td>\n",
       "      <td>12.05135</td>\n",
       "    </tr>\n",
       "    <tr>\n",
       "      <th>19114</th>\n",
       "      <td>2018-11-13T17:00:00Z</td>\n",
       "      <td>12.0473666667</td>\n",
       "    </tr>\n",
       "    <tr>\n",
       "      <th>19115</th>\n",
       "      <td>2018-11-13T18:00:00Z</td>\n",
       "      <td>12.10994</td>\n",
       "    </tr>\n",
       "    <tr>\n",
       "      <th>19116</th>\n",
       "      <td>2018-11-13T19:00:00Z</td>\n",
       "      <td>12.199275</td>\n",
       "    </tr>\n",
       "    <tr>\n",
       "      <th>19117</th>\n",
       "      <td>2018-11-13T20:00:00Z</td>\n",
       "      <td>12.1914625</td>\n",
       "    </tr>\n",
       "  </tbody>\n",
       "</table>\n",
       "<p>19117 rows × 2 columns</p>\n",
       "</div>"
      ],
      "text/plain": [
       "                       time sea_water_temperature\n",
       "1      2007-01-01T13:00:00Z               12.2346\n",
       "2      2007-01-02T01:00:00Z               12.2159\n",
       "3      2007-01-02T13:00:00Z               12.2048\n",
       "4      2007-01-03T02:00:00Z              12.16775\n",
       "5      2007-01-03T17:00:00Z               12.1073\n",
       "...                     ...                   ...\n",
       "19113  2018-11-13T16:00:00Z              12.05135\n",
       "19114  2018-11-13T17:00:00Z         12.0473666667\n",
       "19115  2018-11-13T18:00:00Z              12.10994\n",
       "19116  2018-11-13T19:00:00Z             12.199275\n",
       "19117  2018-11-13T20:00:00Z            12.1914625\n",
       "\n",
       "[19117 rows x 2 columns]"
      ]
     },
     "execution_count": 26,
     "metadata": {},
     "output_type": "execute_result"
    }
   ],
   "source": [
    "water_df = water_df.iloc[1:,:]\n",
    "water_df"
   ]
  },
  {
   "cell_type": "code",
   "execution_count": 27,
   "id": "b4e5b2ef",
   "metadata": {},
   "outputs": [],
   "source": [
    "water_df_copy = water_df.copy()"
   ]
  },
  {
   "cell_type": "code",
   "execution_count": 28,
   "id": "198632b3",
   "metadata": {},
   "outputs": [
    {
     "name": "stdout",
     "output_type": "stream",
     "text": [
      "<class 'pandas.core.frame.DataFrame'>\n",
      "RangeIndex: 19117 entries, 1 to 19117\n",
      "Data columns (total 2 columns):\n",
      " #   Column                 Non-Null Count  Dtype \n",
      "---  ------                 --------------  ----- \n",
      " 0   time                   19117 non-null  object\n",
      " 1   sea_water_temperature  19117 non-null  object\n",
      "dtypes: object(2)\n",
      "memory usage: 298.8+ KB\n"
     ]
    }
   ],
   "source": [
    "water_df.info()"
   ]
  },
  {
   "cell_type": "code",
   "execution_count": 29,
   "id": "7d098572",
   "metadata": {},
   "outputs": [],
   "source": [
    "water_df.rename(columns={'time':'date','sea_water_temperature':'sea_water_temp_degC'}, inplace=True)"
   ]
  },
  {
   "cell_type": "code",
   "execution_count": 31,
   "id": "77e30b93",
   "metadata": {},
   "outputs": [
    {
     "data": {
      "text/html": [
       "<div>\n",
       "<style scoped>\n",
       "    .dataframe tbody tr th:only-of-type {\n",
       "        vertical-align: middle;\n",
       "    }\n",
       "\n",
       "    .dataframe tbody tr th {\n",
       "        vertical-align: top;\n",
       "    }\n",
       "\n",
       "    .dataframe thead th {\n",
       "        text-align: right;\n",
       "    }\n",
       "</style>\n",
       "<table border=\"1\" class=\"dataframe\">\n",
       "  <thead>\n",
       "    <tr style=\"text-align: right;\">\n",
       "      <th></th>\n",
       "      <th>date</th>\n",
       "      <th>sea_water_temp_degC</th>\n",
       "    </tr>\n",
       "  </thead>\n",
       "  <tbody>\n",
       "    <tr>\n",
       "      <th>1</th>\n",
       "      <td>2007-01-01 13:00:00+00:00</td>\n",
       "      <td>12.234600</td>\n",
       "    </tr>\n",
       "    <tr>\n",
       "      <th>2</th>\n",
       "      <td>2007-01-02 01:00:00+00:00</td>\n",
       "      <td>12.215900</td>\n",
       "    </tr>\n",
       "    <tr>\n",
       "      <th>3</th>\n",
       "      <td>2007-01-02 13:00:00+00:00</td>\n",
       "      <td>12.204800</td>\n",
       "    </tr>\n",
       "    <tr>\n",
       "      <th>4</th>\n",
       "      <td>2007-01-03 02:00:00+00:00</td>\n",
       "      <td>12.167750</td>\n",
       "    </tr>\n",
       "    <tr>\n",
       "      <th>5</th>\n",
       "      <td>2007-01-03 17:00:00+00:00</td>\n",
       "      <td>12.107300</td>\n",
       "    </tr>\n",
       "    <tr>\n",
       "      <th>...</th>\n",
       "      <td>...</td>\n",
       "      <td>...</td>\n",
       "    </tr>\n",
       "    <tr>\n",
       "      <th>19113</th>\n",
       "      <td>2018-11-13 16:00:00+00:00</td>\n",
       "      <td>12.051350</td>\n",
       "    </tr>\n",
       "    <tr>\n",
       "      <th>19114</th>\n",
       "      <td>2018-11-13 17:00:00+00:00</td>\n",
       "      <td>12.047367</td>\n",
       "    </tr>\n",
       "    <tr>\n",
       "      <th>19115</th>\n",
       "      <td>2018-11-13 18:00:00+00:00</td>\n",
       "      <td>12.109940</td>\n",
       "    </tr>\n",
       "    <tr>\n",
       "      <th>19116</th>\n",
       "      <td>2018-11-13 19:00:00+00:00</td>\n",
       "      <td>12.199275</td>\n",
       "    </tr>\n",
       "    <tr>\n",
       "      <th>19117</th>\n",
       "      <td>2018-11-13 20:00:00+00:00</td>\n",
       "      <td>12.191463</td>\n",
       "    </tr>\n",
       "  </tbody>\n",
       "</table>\n",
       "<p>19117 rows × 2 columns</p>\n",
       "</div>"
      ],
      "text/plain": [
       "                           date  sea_water_temp_degC\n",
       "1     2007-01-01 13:00:00+00:00            12.234600\n",
       "2     2007-01-02 01:00:00+00:00            12.215900\n",
       "3     2007-01-02 13:00:00+00:00            12.204800\n",
       "4     2007-01-03 02:00:00+00:00            12.167750\n",
       "5     2007-01-03 17:00:00+00:00            12.107300\n",
       "...                         ...                  ...\n",
       "19113 2018-11-13 16:00:00+00:00            12.051350\n",
       "19114 2018-11-13 17:00:00+00:00            12.047367\n",
       "19115 2018-11-13 18:00:00+00:00            12.109940\n",
       "19116 2018-11-13 19:00:00+00:00            12.199275\n",
       "19117 2018-11-13 20:00:00+00:00            12.191463\n",
       "\n",
       "[19117 rows x 2 columns]"
      ]
     },
     "execution_count": 31,
     "metadata": {},
     "output_type": "execute_result"
    }
   ],
   "source": [
    "water_df['sea_water_temp_degC'] = water_df['sea_water_temp_degC'].astype(float)\n",
    "water_df['date'] = pd.to_datetime(water_df.date)\n",
    "water_df"
   ]
  },
  {
   "cell_type": "code",
   "execution_count": 32,
   "id": "035681bc",
   "metadata": {},
   "outputs": [
    {
     "name": "stdout",
     "output_type": "stream",
     "text": [
      "<class 'pandas.core.frame.DataFrame'>\n",
      "RangeIndex: 19117 entries, 1 to 19117\n",
      "Data columns (total 2 columns):\n",
      " #   Column               Non-Null Count  Dtype              \n",
      "---  ------               --------------  -----              \n",
      " 0   date                 19117 non-null  datetime64[ns, UTC]\n",
      " 1   sea_water_temp_degC  19117 non-null  float64            \n",
      "dtypes: datetime64[ns, UTC](1), float64(1)\n",
      "memory usage: 298.8 KB\n"
     ]
    }
   ],
   "source": [
    "water_df.info()"
   ]
  },
  {
   "cell_type": "code",
   "execution_count": 33,
   "id": "ee9f7f60",
   "metadata": {},
   "outputs": [],
   "source": [
    "import seaborn as sns\n",
    "import matplotlib.pyplot as plt"
   ]
  },
  {
   "cell_type": "code",
   "execution_count": 35,
   "id": "415d2235",
   "metadata": {},
   "outputs": [
    {
     "data": {
      "text/plain": [
       "<Axes: xlabel='date', ylabel='sea_water_temp_degC'>"
      ]
     },
     "execution_count": 35,
     "metadata": {},
     "output_type": "execute_result"
    },
    {
     "data": {
      "image/png": "[encoded data removed]",
      "text/plain": [
       "<Figure size 640x480 with 1 Axes>"
      ]
     },
     "metadata": {},
     "output_type": "display_data"
    }
   ],
   "source": [
    "sns.scatterplot(data=water_df, x='date', y='sea_water_temp_degC')"
   ]
  },
  {
   "cell_type": "markdown",
   "id": "be933034",
   "metadata": {},
   "source": [
    "# 235 - Fort Bragg South, CA (46263)\n",
    "https://erddap.cencoos.org/erddap/tabledap/edu_ucsd_cdip_235.html"
   ]
  },
  {
   "cell_type": "code",
   "execution_count": 38,
   "id": "a38e8dfb",
   "metadata": {},
   "outputs": [
    {
     "name": "stdout",
     "output_type": "stream",
     "text": [
      "                   time sea_water_temperature\n",
      "0                   UTC        degree_Celsius\n",
      "1  2017-09-28T10:00:00Z                   NaN\n",
      "2  2017-09-28T10:28:20Z         12.6499996185\n",
      "3  2017-09-28T10:30:00Z                   NaN\n",
      "4  2017-09-28T10:58:20Z         12.6499996185\n"
     ]
    }
   ],
   "source": [
    "import pandas as pd\n",
    "\n",
    "url = 'https://erddap.cencoos.org/erddap/tabledap/edu_ucsd_cdip_235.csv\n",
    "url_col = '?time,sea_water_temperature'\n",
    "&time%3E%3D2007-01-01T00%3A00%3A00Z'\n",
    "\n",
    "fort_temp_df = pd.read_csv(url)\n",
    "\n",
    "\n",
    "print(fort_temp_df.head())\n"
   ]
  },
  {
   "cell_type": "code",
   "execution_count": null,
   "id": "0a1e157b",
   "metadata": {},
   "outputs": [],
   "source": []
  }
 ],
 "metadata": {
  "kernelspec": {
   "display_name": "Python 3 (ipykernel)",
   "language": "python",
   "name": "python3"
  },
  "language_info": {
   "codemirror_mode": {
    "name": "ipython",
    "version": 3
   },
   "file_extension": ".py",
   "mimetype": "text/x-python",
   "name": "python",
   "nbconvert_exporter": "python",
   "pygments_lexer": "ipython3",
   "version": "3.10.11"
  }
 },
 "nbformat": 4,
 "nbformat_minor": 5
}
