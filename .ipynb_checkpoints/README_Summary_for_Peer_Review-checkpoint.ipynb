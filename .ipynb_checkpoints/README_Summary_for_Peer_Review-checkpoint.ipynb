{
 "cells": [
  {
   "cell_type": "markdown",
   "id": "4492de4d-5fae-416b-a9bc-6967af51646c",
   "metadata": {},
   "source": [
    " # **Hannah's Reef Survey Stuff!**\n",
    " #### Comments as of April 21st, 2025\n",
    " *Currently unnamed, feel free to give a recommendation*\n",
    "\n",
    "\n",
    " Regardless of how you are doing this, I would recommend installing the libraries below and restarting your kernel here so you don't have to do it again. If you are using a local kernel, you might have to add pandas, numpy, scipy.stats"
   ]
  },
  {
   "cell_type": "code",
   "execution_count": null,
   "id": "66ab802d-1aa7-4278-81a2-919a6b31fa6a",
   "metadata": {},
   "outputs": [],
   "source": [
    "!pip install plotnine\n",
    "!pip install matplotlib==3.8.3\n",
    "\n",
    "!pip install scikit-misc\n",
    "\n",
    "!pip install seaborn\n",
    "\n",
    "!pip install --upgrade seaborn matplotlib\n",
    "\n",
    "!pip install lxml"
   ]
  },
  {
   "cell_type": "markdown",
   "id": "6e7ec1cc-4468-43fe-b540-5d9f79e287b2",
   "metadata": {},
   "source": [
    "#### Directory Contents"
   ]
  },
  {
   "cell_type": "code",
   "execution_count": 23,
   "id": "30f692af-53dd-4fbd-b6d5-fb307fa265c3",
   "metadata": {},
   "outputs": [
    {
     "name": "stdout",
     "output_type": "stream",
     "text": [
      " Volume in drive C is OS\n",
      " Volume Serial Number is 628A-025E\n",
      "\n",
      " Directory of C:\\Users\\hanna\\sci_diving_2025\\sci_diving_2025_DATA271\n",
      "\n",
      "04/21/2025  09:48 PM    <DIR>          .\n",
      "04/21/2025  05:24 PM    <DIR>          ..\n",
      "04/21/2025  09:01 PM    <DIR>          .ipynb_checkpoints\n",
      "04/21/2025  05:24 PM         9,043,481 Algae_California_raw_2024.csv\n",
      "04/21/2025  09:42 PM         4,204,899 Analysis_1_RCCA_Invertebrate_Survey.ipynb\n",
      "04/21/2025  09:45 PM         5,055,777 Analysis_2_RCCA_Kelp_Survey.ipynb\n",
      "04/21/2025  05:24 PM           333,814 Analysis_3_Take1_Scientific_Diving_Humboldt_Survey.ipynb\n",
      "04/21/2025  07:02 PM         3,400,506 Analysis_4_Take2_Scientific_Diving_Humboldt_Survey .ipynb\n",
      "04/21/2025  09:48 PM           536,743 Analysis_5_Water_Temp_Data.ipynb\n",
      "04/21/2025  08:39 PM           138,074 Analysis_6_Statistical_Analysis.ipynb\n",
      "04/21/2025  05:24 PM           354,141 Caspar_Surveys_Transect_Map_cropped.jpg\n",
      "04/21/2025  05:24 PM            18,217 Data_Entry_Caspar.xlsx\n",
      "04/21/2025  05:38 PM           266,543 eco_invert_std.csv\n",
      "04/21/2025  05:41 PM           216,663 eco_kelp_std.csv\n",
      "04/21/2025  05:41 PM           421,583 eco_std.csv\n",
      "04/21/2025  08:44 PM         7,290,830 Final_Project_Checkpoint_DATA271.ipynb\n",
      "04/21/2025  05:24 PM        24,598,457 Invert_California_raw_2024.csv\n",
      "04/21/2025  09:42 PM         4,985,877 invert_rcca_group.csv\n",
      "04/21/2025  09:43 PM           879,930 kelp_rcca_group.csv\n",
      "04/21/2025  09:48 PM             7,268 README_Summary_for_Peer_Review.ipynb\n",
      "04/21/2025  05:24 PM            63,461 SciDiv_Caspar_Fall_24.xlsx\n",
      "04/21/2025  09:48 PM            11,297 sst_anomaly_df.to_csv\n",
      "04/21/2025  05:24 PM        17,941,133 UPC_California_raw_2024.csv\n",
      "04/21/2025  09:48 PM            11,365 water_temp.csv\n",
      "              21 File(s)     79,780,059 bytes\n",
      "               3 Dir(s)  300,815,171,584 bytes free\n"
     ]
    }
   ],
   "source": [
    "!dir C:\\Users\\hanna\\sci_diving_2025\\sci_diving_2025_DATA271"
   ]
  },
  {
   "cell_type": "markdown",
   "id": "0b16a974-46b3-45ed-bf82-98910a8c3461",
   "metadata": {},
   "source": [
    "#### For general information and EDAs:  \n",
    "- Go to the notebook **'Final_Project_Checkpoint_DATA271'**\n",
    "    - *Full review of Analysis 1 through Analysis 4*\n",
    "   \n",
    "#### Each of the following notebooks contains individual data explorations:  \n",
    "- **Analysis_1_RCCA_Invertebrate_Survey.ipynb**: full, original data exploration of Invert_California_raw_2024.csv. messy. lots of graphs. prone to crashing. recommend gathering/looking at through github. Some functions are defined/created here and used/copied in other places.\n",
    "- **Analysis_2_RCCA_Kelp_Survey.ipynb**: full, original data exploration of Algae_California_raw_2024.csv. less messy. prone to crashing. includes a part at the end where I combine the kelp data and the invert data into one dataframe. this is later transferred to Analysis 6 (see below).  \n",
    "- **Analysis_3_Take1_Scientific_Diving_Humboldt_Survey.ipynb**: full, original data exploration of Data_Entry_Caspar.xlsx, the original attempt at a data entry form for Cal Poly Humboldt student sci-diving surveys. this was scrapped, and a new data entry form was developed. see Analysis 4.  \n",
    "- **Analysis_4_Take2_Scientific_Diving_Humboldt_Survey.ipynb**: full, second edition data exploration of scientific diviing data from Data_Entry_Caspar.xlsx, reformatted and with all transected uploaded as SciDiv_Caspar_Fall_24.xlsx. the ultimate goal of this analysis will be to define a function that will take a excel file and its column names, and return a fully cleaned dataframe with ecological parameters given and appendeding to an overall dataframe to start a time series (we will see how far that goes).  \n",
    "- **Analysis_5_Water_Temp_Data.ipynb**: after multiple attempts at gathering water temperature data for the area, this was the working one. not included in 'Final_Project_Checkpoint_DATA271' yet.\n",
    "- **Analysis_6_Statistical_Analysis.ipynb**: continuation of Analysis 1 and Analysis 2, standardized data, performing two-sample t-tests and moving window t-tests. future tests will hopefully continue to identify correlations in data. very easy to run computationally. **contains final cleaned dataframes from all analysis as of April 21st.**\n",
    "\n",
    "\n",
    "\n",
    "#### Author's recommendation: \n",
    "Look through 'Final_Project_Checkpoint_DATA271' and 'Analysis_6_Statistical_Analysis.ipynb' to get idea of what's going on. \n",
    "\n",
    "\n",
    "#### What I would love some feedback on: \n",
    "RCCA DATA:\n",
    "- I am trying to get overall correlations and identify when the shift happened or started to happen in the ecosystems. I have the invertebrate data, the kelp data, and now the water temp data. Analysis 5 and 6 are my current projects. I need to be able to compare the ecological parameters I have calculated and merged together into one dataframe in Analysis 2/Analysis 6, with the counts of species of interest (purp urchins, red abalone, and sunflower stars/sea stars), and water temperature, all over time. I'm thinking that certain grouping methods with those .join, .merge..., .stack, etc functions will come in handy with some forward filling for dates. \n",
    "- The dataframes are ```eco_std```, ```invert_rcca_group```, ```kelp_rcca_group```, and ```sst_df``` and ```sst_anomaly_df``` , which I have exported as csv's from their original notebooks (Analyses: 2, 1, 2, 5, and 5, respectively) into Analysis 6 for easier purusal.\n",
    "\n",
    "Humboldt Sci-Diving Data:\n",
    "- What are some recommendations for the final function that will clean the data? I already have a lot of functions made that I will use, like for converting the strings to floats and matching the diver names to any nicknames that might have been written. But let me know if you see anything that I am missing!"
   ]
  },
  {
   "cell_type": "code",
   "execution_count": null,
   "id": "1e215efd-676d-4cb1-b57c-e511ffe1eec9",
   "metadata": {},
   "outputs": [],
   "source": []
  }
 ],
 "metadata": {
  "kernelspec": {
   "display_name": "Python 3 (ipykernel)",
   "language": "python",
   "name": "python3"
  },
  "language_info": {
   "codemirror_mode": {
    "name": "ipython",
    "version": 3
   },
   "file_extension": ".py",
   "mimetype": "text/x-python",
   "name": "python",
   "nbconvert_exporter": "python",
   "pygments_lexer": "ipython3",
   "version": "3.13.3"
  }
 },
 "nbformat": 4,
 "nbformat_minor": 5
}
